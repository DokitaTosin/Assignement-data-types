{
 "cells": [
  {
   "cell_type": "markdown",
   "id": "5123889e",
   "metadata": {},
   "source": [
    "# Assignment three"
   ]
  },
  {
   "cell_type": "markdown",
   "id": "0b06f72c",
   "metadata": {},
   "source": [
    "This notebook contains the reponses to the questions from the class on types of data"
   ]
  },
  {
   "cell_type": "markdown",
   "id": "2c5a4241",
   "metadata": {},
   "source": [
    "1. What is a variable?"
   ]
  },
  {
   "cell_type": "markdown",
   "id": "19f0e686",
   "metadata": {},
   "source": [
    "A variable is a name that refers to a value"
   ]
  },
  {
   "cell_type": "markdown",
   "id": "2d0d3a1d",
   "metadata": {},
   "source": [
    "2. Examples of variable "
   ]
  },
  {
   "cell_type": "code",
   "execution_count": 1,
   "id": "c72624c6",
   "metadata": {},
   "outputs": [],
   "source": [
    "Name = \"Tosin\"\n",
    "gender = \"Male\"\n",
    "weight = 70\n",
    "ldl_cholesterol = 67.2\n",
    "employment_status = \"employed\"\n"
   ]
  },
  {
   "cell_type": "markdown",
   "id": "04a7b67f",
   "metadata": {},
   "source": [
    "3. Data types "
   ]
  },
  {
   "cell_type": "code",
   "execution_count": 2,
   "id": "23674373",
   "metadata": {},
   "outputs": [
    {
     "data": {
      "text/plain": [
       "bool"
      ]
     },
     "execution_count": 2,
     "metadata": {},
     "output_type": "execute_result"
    }
   ],
   "source": [
    "b = False\n",
    "type(b)"
   ]
  },
  {
   "cell_type": "code",
   "execution_count": 3,
   "id": "302f099c",
   "metadata": {},
   "outputs": [
    {
     "data": {
      "text/plain": [
       "str"
      ]
     },
     "execution_count": 3,
     "metadata": {},
     "output_type": "execute_result"
    }
   ],
   "source": [
    "number = \"1000\"\n",
    "type(number)"
   ]
  },
  {
   "cell_type": "code",
   "execution_count": 5,
   "id": "98ccec23",
   "metadata": {},
   "outputs": [
    {
     "data": {
      "text/plain": [
       "float"
      ]
     },
     "execution_count": 5,
     "metadata": {},
     "output_type": "execute_result"
    }
   ],
   "source": [
    "radius = 7.0\n",
    "type(radius)"
   ]
  },
  {
   "cell_type": "code",
   "execution_count": 6,
   "id": "43ba8a64",
   "metadata": {},
   "outputs": [
    {
     "data": {
      "text/plain": [
       "int"
      ]
     },
     "execution_count": 6,
     "metadata": {},
     "output_type": "execute_result"
    }
   ],
   "source": [
    "diameter = 14\n",
    "type(diameter)"
   ]
  },
  {
   "cell_type": "code",
   "execution_count": 7,
   "id": "bdfb4320",
   "metadata": {},
   "outputs": [
    {
     "data": {
      "text/plain": [
       "str"
      ]
     },
     "execution_count": 7,
     "metadata": {},
     "output_type": "execute_result"
    }
   ],
   "source": [
    "country = 'Nigeria'\n",
    "type(country)"
   ]
  },
  {
   "cell_type": "markdown",
   "id": "550cdf0f",
   "metadata": {},
   "source": [
    "4. Fixing a string quote "
   ]
  },
  {
   "cell_type": "code",
   "execution_count": 8,
   "id": "670bb1eb",
   "metadata": {},
   "outputs": [
    {
     "data": {
      "text/plain": [
       "\"You're right, he won't agree to this deal\""
      ]
     },
     "execution_count": 8,
     "metadata": {},
     "output_type": "execute_result"
    }
   ],
   "source": [
    "\"You're right, he won't agree to this deal\""
   ]
  },
  {
   "cell_type": "markdown",
   "id": "26507dd7",
   "metadata": {},
   "source": [
    "5. What happens when you call string method on a float"
   ]
  },
  {
   "cell_type": "code",
   "execution_count": 9,
   "id": "3b89b889",
   "metadata": {},
   "outputs": [
    {
     "ename": "AttributeError",
     "evalue": "'float' object has no attribute 'islower'",
     "output_type": "error",
     "traceback": [
      "\u001b[1;31m---------------------------------------------------------------------------\u001b[0m",
      "\u001b[1;31mAttributeError\u001b[0m                            Traceback (most recent call last)",
      "\u001b[1;32m<ipython-input-9-157c63f77333>\u001b[0m in \u001b[0;36m<module>\u001b[1;34m\u001b[0m\n\u001b[0;32m      1\u001b[0m \u001b[0mheight\u001b[0m \u001b[1;33m=\u001b[0m \u001b[1;36m15.55\u001b[0m\u001b[1;33m\u001b[0m\u001b[1;33m\u001b[0m\u001b[0m\n\u001b[1;32m----> 2\u001b[1;33m \u001b[0mheight\u001b[0m\u001b[1;33m.\u001b[0m\u001b[0mislower\u001b[0m\u001b[1;33m(\u001b[0m\u001b[1;33m)\u001b[0m\u001b[1;33m\u001b[0m\u001b[1;33m\u001b[0m\u001b[0m\n\u001b[0m",
      "\u001b[1;31mAttributeError\u001b[0m: 'float' object has no attribute 'islower'"
     ]
    }
   ],
   "source": [
    "height = 15.55\n",
    "height.islower()"
   ]
  },
  {
   "cell_type": "code",
   "execution_count": 10,
   "id": "95c4609f",
   "metadata": {},
   "outputs": [
    {
     "ename": "AttributeError",
     "evalue": "'float' object has no attribute 'islower'",
     "output_type": "error",
     "traceback": [
      "\u001b[1;31m---------------------------------------------------------------------------\u001b[0m",
      "\u001b[1;31mAttributeError\u001b[0m                            Traceback (most recent call last)",
      "\u001b[1;32m<ipython-input-10-d2874f0d48ee>\u001b[0m in \u001b[0;36m<module>\u001b[1;34m\u001b[0m\n\u001b[1;32m----> 1\u001b[1;33m \u001b[1;36m15.55\u001b[0m\u001b[1;33m.\u001b[0m\u001b[0mislower\u001b[0m\u001b[1;33m(\u001b[0m\u001b[1;33m)\u001b[0m\u001b[1;33m\u001b[0m\u001b[1;33m\u001b[0m\u001b[0m\n\u001b[0m",
      "\u001b[1;31mAttributeError\u001b[0m: 'float' object has no attribute 'islower'"
     ]
    }
   ],
   "source": [
    "15.55.islower()"
   ]
  },
  {
   "cell_type": "markdown",
   "id": "df0663ed",
   "metadata": {},
   "source": [
    "I suppose that will give an error. The reason is because \"islower\" is supposed to check if all characters are lower case and this can only happen with alphabets. Floats on the other hand are numeric. "
   ]
  },
  {
   "cell_type": "markdown",
   "id": "53b3e63a",
   "metadata": {},
   "source": [
    "6. Printing using format"
   ]
  },
  {
   "cell_type": "code",
   "execution_count": 17,
   "id": "14f91383",
   "metadata": {},
   "outputs": [
    {
     "name": "stdout",
     "output_type": "stream",
     "text": [
      "While it is True that ronaldo is good, it is absolutely False that he is better than messi who is the GOAT\n"
     ]
    }
   ],
   "source": [
    "name1 = True\n",
    "name2 = False \n",
    "print(\"While it is {} that ronaldo is good, it is absolutely {} that he is better than messi who is the GOAT\".format(name1, name2))"
   ]
  },
  {
   "cell_type": "markdown",
   "id": "13d68c5b",
   "metadata": {},
   "source": [
    " 7. URL question "
   ]
  },
  {
   "cell_type": "code",
   "execution_count": 15,
   "id": "8779b1d1",
   "metadata": {},
   "outputs": [
    {
     "name": "stdout",
     "output_type": "stream",
     "text": [
      "Faith accessed the site http://kadatemy.com/courses/pythonfordatascience/class1 at 07:50\n"
     ]
    }
   ],
   "source": [
    "username = \"Faith\"\n",
    "timestamp = \"07:50\"\n",
    "url = \"http://kadatemy.com/courses/pythonfordatascience/class1\"\n",
    "print(\"{} accessed the site {} at {}\".format(username, url, timestamp))"
   ]
  },
  {
   "cell_type": "markdown",
   "id": "8af280c0",
   "metadata": {},
   "source": [
    "8. playing with the string \"Python exercise are fun. It is very satisfying to solve problems using this computer language\""
   ]
  },
  {
   "cell_type": "code",
   "execution_count": 18,
   "id": "b433128e",
   "metadata": {},
   "outputs": [
    {
     "name": "stdout",
     "output_type": "stream",
     "text": [
      "93\n"
     ]
    }
   ],
   "source": [
    "length = len(\"Python exercise are fun. It is very satisfying to solve problems using this computer language\")\n",
    "print(length)"
   ]
  },
  {
   "cell_type": "code",
   "execution_count": 25,
   "id": "1bd352d9",
   "metadata": {},
   "outputs": [
    {
     "data": {
      "text/plain": [
       "'P'"
      ]
     },
     "execution_count": 25,
     "metadata": {},
     "output_type": "execute_result"
    }
   ],
   "source": [
    "word = \"Python exercise are fun. It is very satisfying to solve problems using this computer language\"\n",
    "word[0]"
   ]
  },
  {
   "cell_type": "code",
   "execution_count": 26,
   "id": "0e0ceb84",
   "metadata": {},
   "outputs": [
    {
     "data": {
      "text/plain": [
       "'e'"
      ]
     },
     "execution_count": 26,
     "metadata": {},
     "output_type": "execute_result"
    }
   ],
   "source": [
    "word[92]"
   ]
  },
  {
   "cell_type": "code",
   "execution_count": 30,
   "id": "1fd0af69",
   "metadata": {},
   "outputs": [
    {
     "data": {
      "text/plain": [
       "'exercise'"
      ]
     },
     "execution_count": 30,
     "metadata": {},
     "output_type": "execute_result"
    }
   ],
   "source": [
    "word[7:15]"
   ]
  },
  {
   "cell_type": "code",
   "execution_count": 33,
   "id": "a4aa68c5",
   "metadata": {},
   "outputs": [
    {
     "data": {
      "text/plain": [
       "'language'"
      ]
     },
     "execution_count": 33,
     "metadata": {},
     "output_type": "execute_result"
    }
   ],
   "source": [
    "word[85:93]"
   ]
  },
  {
   "cell_type": "code",
   "execution_count": 55,
   "id": "a3143999",
   "metadata": {},
   "outputs": [
    {
     "name": "stdout",
     "output_type": "stream",
     "text": [
      "pye\n"
     ]
    }
   ],
   "source": [
    "word0 = \"p\"\n",
    "word1 = \"y\"\n",
    "word93 = \"e\"\n",
    "print(word0 + word1 + word93)"
   ]
  },
  {
   "cell_type": "markdown",
   "id": "871695bb",
   "metadata": {},
   "source": [
    "I honestly dont know if this is what is required here"
   ]
  },
  {
   "cell_type": "code",
   "execution_count": 50,
   "id": "9ad97b2e",
   "metadata": {},
   "outputs": [
    {
     "name": "stdout",
     "output_type": "stream",
     "text": [
      "the count of 'e' is 9\n",
      "the count of  s' is 8\n"
     ]
    }
   ],
   "source": [
    "str_count1 = word.count(\"e\")\n",
    "str_count2 = word.count(\"s\")\n",
    "print(\"the count of 'e' is\", str_count1)\n",
    "print(\"the count of  s' is\", str_count2)"
   ]
  },
  {
   "cell_type": "markdown",
   "id": "7233471a",
   "metadata": {},
   "source": [
    "e occured more frequently than s"
   ]
  },
  {
   "cell_type": "markdown",
   "id": "83e53b6d",
   "metadata": {},
   "source": [
    "9. Second play with python \" I'm enjoying this a lot! I could do with more exercises. \""
   ]
  },
  {
   "cell_type": "code",
   "execution_count": 61,
   "id": "8f5ab59a",
   "metadata": {},
   "outputs": [
    {
     "name": "stdout",
     "output_type": "stream",
     "text": [
      " I'm enjoying this a lot! I could do with more exercises. \n",
      "I'm enjoying this a lot! I could do with more exercises.\n"
     ]
    }
   ],
   "source": [
    "word = \" I'm enjoying this a lot! I could do with more exercises. \"\n",
    "print(word)\n",
    "print(word.strip())"
   ]
  },
  {
   "cell_type": "code",
   "execution_count": 64,
   "id": "68de07d6",
   "metadata": {},
   "outputs": [
    {
     "data": {
      "text/plain": [
       "False"
      ]
     },
     "execution_count": 64,
     "metadata": {},
     "output_type": "execute_result"
    }
   ],
   "source": [
    "word.isnumeric()"
   ]
  },
  {
   "cell_type": "markdown",
   "id": "dc8b3273",
   "metadata": {},
   "source": [
    "the method \"isnumeric\" should check if the string consist only numeric character. Since the string consist only alphabets, it is reasonable that the answer is false."
   ]
  },
  {
   "cell_type": "code",
   "execution_count": 67,
   "id": "d30b6b54",
   "metadata": {},
   "outputs": [
    {
     "name": "stdout",
     "output_type": "stream",
     "text": [
      "52\n"
     ]
    }
   ],
   "source": [
    "word = \" I'm enjoying this a lot! I could do with more exercises. \"\n",
    "character = \"i\"\n",
    "character_index = word.rindex(character)\n",
    "print(character_index)"
   ]
  },
  {
   "cell_type": "code",
   "execution_count": 68,
   "id": "51db623f",
   "metadata": {},
   "outputs": [
    {
     "name": "stdout",
     "output_type": "stream",
     "text": [
      "52\n"
     ]
    }
   ],
   "source": [
    "word = \" I'm enjoying this a lot! I could do with more exercises. \"\n",
    "character = \"i\"\n",
    "character_index = word.rfind(character)\n",
    "print(character_index)"
   ]
  },
  {
   "cell_type": "markdown",
   "id": "ff5e02fb",
   "metadata": {},
   "source": [
    "10. Concatenation"
   ]
  },
  {
   "cell_type": "code",
   "execution_count": 71,
   "id": "2ec87884",
   "metadata": {},
   "outputs": [
    {
     "name": "stdout",
     "output_type": "stream",
     "text": [
      "Python exercise are fun. It is very satisfying to solve problems using this computer language. I'm enjoying this a lot! I could do with more exercises.\n"
     ]
    }
   ],
   "source": [
    "sentence1 = \"Python exercise are fun. It is very satisfying to solve problems using this computer language.\"\n",
    "sentence2 = \" I'm enjoying this a lot! I could do with more exercises.\"\n",
    "print(sentence1 + sentence2)"
   ]
  },
  {
   "cell_type": "markdown",
   "id": "75615873",
   "metadata": {},
   "source": [
    "11. Returning true\n"
   ]
  },
  {
   "cell_type": "code",
   "execution_count": 78,
   "id": "18864533",
   "metadata": {},
   "outputs": [
    {
     "data": {
      "text/plain": [
       "True"
      ]
     },
     "execution_count": 78,
     "metadata": {},
     "output_type": "execute_result"
    }
   ],
   "source": [
    "x = \"3490003\"\n",
    "x.isnumeric()"
   ]
  },
  {
   "cell_type": "code",
   "execution_count": null,
   "id": "7ebbf293",
   "metadata": {},
   "outputs": [],
   "source": []
  },
  {
   "cell_type": "code",
   "execution_count": null,
   "id": "a88b8917",
   "metadata": {},
   "outputs": [],
   "source": []
  }
 ],
 "metadata": {
  "kernelspec": {
   "display_name": "Python 3",
   "language": "python",
   "name": "python3"
  },
  "language_info": {
   "codemirror_mode": {
    "name": "ipython",
    "version": 3
   },
   "file_extension": ".py",
   "mimetype": "text/x-python",
   "name": "python",
   "nbconvert_exporter": "python",
   "pygments_lexer": "ipython3",
   "version": "3.8.8"
  }
 },
 "nbformat": 4,
 "nbformat_minor": 5
}
